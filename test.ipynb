{
 "cells": [
  {
   "cell_type": "code",
   "execution_count": 3,
   "metadata": {},
   "outputs": [],
   "source": [
    "from extensive_games import Disturb\n",
    "from model import Model\n",
    "from strategy import Strategy\n",
    "from visualizers.disturb import DisturbVisualizer\n",
    "\n",
    "game = Disturb(5)\n",
    "model = Model(game)\n",
    "strategy = Strategy.from_model(model)"
   ]
  },
  {
   "cell_type": "code",
   "execution_count": 100,
   "metadata": {},
   "outputs": [
    {
     "name": "stdout",
     "output_type": "stream",
     "text": [
      "Turn: 2\n",
      "Player 1: ..x.....\n",
      "Player 2: ..x.....\n",
      "\n",
      "Turn: 4\n",
      "Player 1: .x......\n",
      "Player 2: ..x.....\n",
      "\n",
      "Turn: 6\n",
      "Player 1: x.......\n",
      "Player 2: .x......\n",
      "\n",
      "Turn: 8\n",
      "Player 1: x.......\n",
      "Player 2: .x......\n",
      "\n",
      "Turn: 10\n",
      "Player 1: x.......\n",
      "Player 2: x.......\n",
      "\n",
      "Turn: 12\n",
      "Player 1: x.......\n",
      "Player 2: x.......\n",
      "\n",
      "Turn: 14\n",
      "Player 1: x.......\n",
      "Player 2: x.......\n",
      "\n",
      "Turn: 16\n",
      "Player 1: .x......\n",
      "Player 2: .x......\n",
      "\n",
      "Turn: 18\n",
      "Player 1: x.......\n",
      "Player 2: x.......\n",
      "\n",
      "Turn: 20\n",
      "Player 1: x.......\n",
      "Player 2: .x......\n",
      "\n"
     ]
    }
   ],
   "source": [
    "visualizer = DisturbVisualizer(game, strategy)\n",
    "visualizer.random()"
   ]
  }
 ],
 "metadata": {
  "kernelspec": {
   "display_name": "cfr-algorithm-N9YzRqdC",
   "language": "python",
   "name": "python3"
  },
  "language_info": {
   "codemirror_mode": {
    "name": "ipython",
    "version": 3
   },
   "file_extension": ".py",
   "mimetype": "text/x-python",
   "name": "python",
   "nbconvert_exporter": "python",
   "pygments_lexer": "ipython3",
   "version": "3.11.7"
  }
 },
 "nbformat": 4,
 "nbformat_minor": 2
}
