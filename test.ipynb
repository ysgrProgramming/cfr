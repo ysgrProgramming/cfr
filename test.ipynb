{
 "cells": [
  {
   "cell_type": "code",
   "execution_count": 2,
   "metadata": {},
   "outputs": [
    {
     "ename": "",
     "evalue": "",
     "output_type": "error",
     "traceback": [
      "\u001b[1;31mThe Kernel crashed while executing code in the current cell or a previous cell. \n",
      "\u001b[1;31mPlease review the code in the cell(s) to identify a possible cause of the failure. \n",
      "\u001b[1;31mClick <a href='https://aka.ms/vscodeJupyterKernelCrash'>here</a> for more info. \n",
      "\u001b[1;31mView Jupyter <a href='command:jupyter.viewOutput'>log</a> for further details."
     ]
    }
   ],
   "source": [
    "from src.extensive_games import Daruma\n",
    "from src.model import Model\n",
    "#from strategy import Strategy\n",
    "from src.visualizers import DarumaVisualizer\n",
    "import sys\n",
    "\n",
    "game = Daruma(10, 10, 5, 1)\n",
    "model = Model(game)\n",
    "\n",
    "model.search(game)\n",
    "#strategy = Strategy.from_model(model)"
   ]
  },
  {
   "cell_type": "code",
   "execution_count": 1,
   "metadata": {},
   "outputs": [
    {
     "ename": "NameError",
     "evalue": "name 'DarumaVisualizer' is not defined",
     "output_type": "error",
     "traceback": [
      "\u001b[1;31m---------------------------------------------------------------------------\u001b[0m",
      "\u001b[1;31mNameError\u001b[0m                                 Traceback (most recent call last)",
      "Cell \u001b[1;32mIn [1], line 1\u001b[0m\n\u001b[1;32m----> 1\u001b[0m visualizer \u001b[38;5;241m=\u001b[39m DarumaVisualizer(game)\n\u001b[0;32m      2\u001b[0m visualizer\u001b[38;5;241m.\u001b[39mrandom()\n",
      "\u001b[1;31mNameError\u001b[0m: name 'DarumaVisualizer' is not defined"
     ]
    }
   ],
   "source": [
    "visualizer = DarumaVisualizer(game)\n",
    "visualizer.random()"
   ]
  }
 ],
 "metadata": {
  "kernelspec": {
   "display_name": "cfr-algorithm-N9YzRqdC",
   "language": "python",
   "name": "python3"
  },
  "language_info": {
   "codemirror_mode": {
    "name": "ipython",
    "version": 3
   },
   "file_extension": ".py",
   "mimetype": "text/x-python",
   "name": "python",
   "nbconvert_exporter": "python",
   "pygments_lexer": "ipython3",
   "version": "3.10.11"
  }
 },
 "nbformat": 4,
 "nbformat_minor": 2
}
