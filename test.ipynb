{
 "cells": [
  {
   "cell_type": "code",
   "execution_count": 1,
   "metadata": {},
   "outputs": [
    {
     "ename": "ModuleNotFoundError",
     "evalue": "No module named 'extensive_games'",
     "output_type": "error",
     "traceback": [
      "\u001b[1;31m---------------------------------------------------------------------------\u001b[0m",
      "\u001b[1;31mModuleNotFoundError\u001b[0m                       Traceback (most recent call last)",
      "Cell \u001b[1;32mIn [1], line 4\u001b[0m\n\u001b[0;32m      1\u001b[0m \u001b[38;5;28;01mfrom\u001b[39;00m \u001b[38;5;21;01msrc\u001b[39;00m\u001b[38;5;21;01m.\u001b[39;00m\u001b[38;5;21;01mextensive_games\u001b[39;00m \u001b[38;5;28;01mimport\u001b[39;00m Daruma\n\u001b[0;32m      2\u001b[0m \u001b[38;5;66;03m#from model import Model\u001b[39;00m\n\u001b[0;32m      3\u001b[0m \u001b[38;5;66;03m#from strategy import Strategy\u001b[39;00m\n\u001b[1;32m----> 4\u001b[0m \u001b[38;5;28;01mfrom\u001b[39;00m \u001b[38;5;21;01msrc\u001b[39;00m\u001b[38;5;21;01m.\u001b[39;00m\u001b[38;5;21;01mvisualizers\u001b[39;00m \u001b[38;5;28;01mimport\u001b[39;00m DarumaVisualizer\n\u001b[0;32m      6\u001b[0m game \u001b[38;5;241m=\u001b[39m Daruma(\u001b[38;5;241m10\u001b[39m, \u001b[38;5;241m10\u001b[39m, \u001b[38;5;241m5\u001b[39m, \u001b[38;5;241m1\u001b[39m)\n",
      "File \u001b[1;32mc:\\Users\\ymizu\\Documents\\workspace\\cfr\\src\\visualizers\\__init__.py:1\u001b[0m\n\u001b[1;32m----> 1\u001b[0m \u001b[38;5;28;01mfrom\u001b[39;00m \u001b[38;5;21;01m.\u001b[39;00m\u001b[38;5;21;01mbase\u001b[39;00m \u001b[38;5;28;01mimport\u001b[39;00m Visualizer\n\u001b[0;32m      2\u001b[0m \u001b[38;5;28;01mfrom\u001b[39;00m \u001b[38;5;21;01m.\u001b[39;00m\u001b[38;5;21;01mdaruma\u001b[39;00m \u001b[38;5;28;01mimport\u001b[39;00m DarumaVisualizer\n",
      "File \u001b[1;32mc:\\Users\\ymizu\\Documents\\workspace\\cfr\\src\\visualizers\\base.py:2\u001b[0m\n\u001b[0;32m      1\u001b[0m \u001b[38;5;28;01mfrom\u001b[39;00m \u001b[38;5;21;01mabc\u001b[39;00m \u001b[38;5;28;01mimport\u001b[39;00m ABC, abstractmethod\n\u001b[1;32m----> 2\u001b[0m \u001b[38;5;28;01mfrom\u001b[39;00m \u001b[38;5;21;01mextensive_games\u001b[39;00m \u001b[38;5;28;01mimport\u001b[39;00m ExtensiveGame\n\u001b[0;32m      3\u001b[0m \u001b[38;5;28;01mfrom\u001b[39;00m \u001b[38;5;21;01m.\u001b[39;00m\u001b[38;5;21;01m.\u001b[39;00m\u001b[38;5;21;01mstrategy\u001b[39;00m \u001b[38;5;28;01mimport\u001b[39;00m Strategy\n\u001b[0;32m      4\u001b[0m \u001b[38;5;28;01mfrom\u001b[39;00m \u001b[38;5;21;01mdataclasses\u001b[39;00m \u001b[38;5;28;01mimport\u001b[39;00m dataclass\n",
      "\u001b[1;31mModuleNotFoundError\u001b[0m: No module named 'extensive_games'"
     ]
    }
   ],
   "source": [
    "from src.extensive_games import Daruma\n",
    "#from model import Model\n",
    "#from strategy import Strategy\n",
    "from src.visualizers import DarumaVisualizer\n",
    "    \n",
    "game = Daruma(10, 10, 5, 1)\n",
    "#model = Model(game)\n",
    "#strategy = Strategy.from_model(model)"
   ]
  },
  {
   "cell_type": "code",
   "execution_count": 100,
   "metadata": {},
   "outputs": [
    {
     "name": "stdout",
     "output_type": "stream",
     "text": [
      "Turn: 2\n",
      "Player 1: ..x.....\n",
      "Player 2: ..x.....\n",
      "\n",
      "Turn: 4\n",
      "Player 1: .x......\n",
      "Player 2: ..x.....\n",
      "\n",
      "Turn: 6\n",
      "Player 1: x.......\n",
      "Player 2: .x......\n",
      "\n",
      "Turn: 8\n",
      "Player 1: x.......\n",
      "Player 2: .x......\n",
      "\n",
      "Turn: 10\n",
      "Player 1: x.......\n",
      "Player 2: x.......\n",
      "\n",
      "Turn: 12\n",
      "Player 1: x.......\n",
      "Player 2: x.......\n",
      "\n",
      "Turn: 14\n",
      "Player 1: x.......\n",
      "Player 2: x.......\n",
      "\n",
      "Turn: 16\n",
      "Player 1: .x......\n",
      "Player 2: .x......\n",
      "\n",
      "Turn: 18\n",
      "Player 1: x.......\n",
      "Player 2: x.......\n",
      "\n",
      "Turn: 20\n",
      "Player 1: x.......\n",
      "Player 2: .x......\n",
      "\n"
     ]
    }
   ],
   "source": [
    "visualizer = DarumaVisualizer(game)\n",
    "visualizer.random()"
   ]
  }
 ],
 "metadata": {
  "kernelspec": {
   "display_name": "cfr-algorithm-N9YzRqdC",
   "language": "python",
   "name": "python3"
  },
  "language_info": {
   "codemirror_mode": {
    "name": "ipython",
    "version": 3
   },
   "file_extension": ".py",
   "mimetype": "text/x-python",
   "name": "python",
   "nbconvert_exporter": "python",
   "pygments_lexer": "ipython3",
   "version": "3.10.11"
  }
 },
 "nbformat": 4,
 "nbformat_minor": 2
}
